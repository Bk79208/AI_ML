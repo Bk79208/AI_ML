{
 "cells": [
  {
   "cell_type": "code",
   "execution_count": null,
   "id": "e20ef210-f68a-44b9-9750-1ebe24b0dc02",
   "metadata": {},
   "outputs": [
    {
     "name": "stdout",
     "output_type": "stream",
     "text": [
      "Collecting numpy\n",
      "  Using cached numpy-2.2.5-cp312-cp312-win_amd64.whl.metadata (60 kB)\n",
      "Using cached numpy-2.2.5-cp312-cp312-win_amd64.whl (12.6 MB)\n",
      "Installing collected packages: numpy\n",
      "Successfully installed numpy-2.2.5\n"
     ]
    }
   ],
   "source": [
    "# pip install numpy"
   ]
  },
  {
   "cell_type": "markdown",
   "id": "4ea78268-4797-448f-b0b0-9707ffd5da24",
   "metadata": {},
   "source": [
    "# this is numpy class"
   ]
  },
  {
   "cell_type": "code",
   "execution_count": 3,
   "id": "c8de8ef3-e784-4271-a341-058b09f95dbd",
   "metadata": {},
   "outputs": [],
   "source": [
    "import numpy as np"
   ]
  },
  {
   "cell_type": "code",
   "execution_count": 5,
   "id": "9dc1b4d2-a48c-4012-a748-dd4acb2087ac",
   "metadata": {},
   "outputs": [
    {
     "data": {
      "text/plain": [
       "[1, 'hello', 2, 3, 4, 5]"
      ]
     },
     "execution_count": 5,
     "metadata": {},
     "output_type": "execute_result"
    }
   ],
   "source": [
    "# Python List\n",
    "list_example = [ 1,\"hello\", 2,3,4,5]\n",
    "list_example"
   ]
  },
  {
   "cell_type": "code",
   "execution_count": 6,
   "id": "7289e677-39f1-4e92-978c-9e615d89da42",
   "metadata": {},
   "outputs": [
    {
     "data": {
      "text/plain": [
       "array([1, 2, 3, 4, 5, 6])"
      ]
     },
     "execution_count": 6,
     "metadata": {},
     "output_type": "execute_result"
    }
   ],
   "source": [
    "# numpy array\n",
    "array_example = np.array([1,2,3,4,5,6], dtype = np.int32)\n",
    "array_example"
   ]
  },
  {
   "cell_type": "code",
   "execution_count": 7,
   "id": "35c39445-75d7-4de1-af21-5e8369c55f63",
   "metadata": {},
   "outputs": [
    {
     "data": {
      "text/plain": [
       "array(['1', 'hello', '3.5'], dtype='<U32')"
      ]
     },
     "execution_count": 7,
     "metadata": {},
     "output_type": "execute_result"
    }
   ],
   "source": [
    "array2= np.array([1,\"hello\",3.5])\n",
    "array2"
   ]
  },
  {
   "cell_type": "code",
   "execution_count": 8,
   "id": "9ecd61b9-9cf7-498b-8e3a-530810217316",
   "metadata": {},
   "outputs": [],
   "source": [
    "# array3= np.array([1,\"hello\",3.5], dtype= np.int32)"
   ]
  },
  {
   "cell_type": "code",
   "execution_count": 9,
   "id": "1a7730ae-8708-47a8-a042-30268a6e7ea1",
   "metadata": {},
   "outputs": [
    {
     "name": "stdout",
     "output_type": "stream",
     "text": [
      "<class 'numpy.ndarray'>\n"
     ]
    }
   ],
   "source": [
    "a = np.array([1,2,3])\n",
    "print(type(a))"
   ]
  },
  {
   "cell_type": "code",
   "execution_count": 10,
   "id": "0c8466f3-3997-471b-bc4d-5b2ff7b9ff92",
   "metadata": {},
   "outputs": [
    {
     "name": "stdout",
     "output_type": "stream",
     "text": [
      "(3,)\n",
      "1\n",
      "[4 2 3]\n"
     ]
    }
   ],
   "source": [
    "print(a.shape)\n",
    "print(a[0])\n",
    "a[0] = 4\n",
    "print(a)"
   ]
  },
  {
   "cell_type": "code",
   "execution_count": 11,
   "id": "fbb88f53-915c-4e8f-a4e7-a0596ca7f7d5",
   "metadata": {},
   "outputs": [
    {
     "name": "stdout",
     "output_type": "stream",
     "text": [
      "[[1 2]\n",
      " [3 4]]\n"
     ]
    }
   ],
   "source": [
    "b= np.array([[1,2],[3,4]])\n",
    "print(b)"
   ]
  },
  {
   "cell_type": "code",
   "execution_count": 12,
   "id": "f40a9810-9dab-4dfe-a0cb-25ffca6d5fd5",
   "metadata": {},
   "outputs": [
    {
     "name": "stdout",
     "output_type": "stream",
     "text": [
      "(2, 2)\n"
     ]
    }
   ],
   "source": [
    "print(b.shape)"
   ]
  },
  {
   "cell_type": "code",
   "execution_count": 13,
   "id": "7a391214-edd6-4446-8f00-5b4084a55ab9",
   "metadata": {},
   "outputs": [
    {
     "data": {
      "text/plain": [
       "2"
      ]
     },
     "execution_count": 13,
     "metadata": {},
     "output_type": "execute_result"
    }
   ],
   "source": [
    "b.ndim"
   ]
  },
  {
   "cell_type": "code",
   "execution_count": 14,
   "id": "13337819-d98e-4063-9f82-d17c1bb5a980",
   "metadata": {},
   "outputs": [
    {
     "data": {
      "text/plain": [
       "array([[[1, 2],\n",
       "        [3, 4]],\n",
       "\n",
       "       [[5, 6],\n",
       "        [7, 8]]])"
      ]
     },
     "execution_count": 14,
     "metadata": {},
     "output_type": "execute_result"
    }
   ],
   "source": [
    "arr = np.array([[[1,2],[3,4]],\n",
    "                [[5,6],[7,8]]])\n",
    "arr"
   ]
  },
  {
   "cell_type": "code",
   "execution_count": 15,
   "id": "6a60ad4e-01ec-4584-af67-bac9e0d64b6b",
   "metadata": {},
   "outputs": [
    {
     "data": {
      "text/plain": [
       "3"
      ]
     },
     "execution_count": 15,
     "metadata": {},
     "output_type": "execute_result"
    }
   ],
   "source": [
    "arr.ndim"
   ]
  },
  {
   "cell_type": "code",
   "execution_count": 16,
   "id": "f78b0127-6898-4462-90b9-12ec88221537",
   "metadata": {},
   "outputs": [
    {
     "data": {
      "text/plain": [
       "array([[1, 2, 3],\n",
       "       [4, 5, 6],\n",
       "       [7, 8, 9]])"
      ]
     },
     "execution_count": 16,
     "metadata": {},
     "output_type": "execute_result"
    }
   ],
   "source": [
    "b= np.array([[1,2,3],[4,5,6],[7,8,9]])\n",
    "b"
   ]
  },
  {
   "cell_type": "code",
   "execution_count": 17,
   "id": "4c698b4d-5ad8-4eae-9d86-15f85c84fac4",
   "metadata": {},
   "outputs": [
    {
     "data": {
      "text/plain": [
       "array([[1, 2, 3],\n",
       "       [4, 5, 6]])"
      ]
     },
     "execution_count": 17,
     "metadata": {},
     "output_type": "execute_result"
    }
   ],
   "source": [
    "b[0:2]\n",
    "# b[0:2,0:2]"
   ]
  },
  {
   "cell_type": "code",
   "execution_count": 18,
   "id": "6ce00fea-e5d2-4951-b583-839982308843",
   "metadata": {},
   "outputs": [
    {
     "data": {
      "text/plain": [
       "array([[ 1,  2,  3,  4],\n",
       "       [ 5,  6,  7,  8],\n",
       "       [ 9, 10, 11, 12]])"
      ]
     },
     "execution_count": 18,
     "metadata": {},
     "output_type": "execute_result"
    }
   ],
   "source": [
    "c = np.array([[1,2,3,4],[5,6,7,8],[9,10,11,12]])\n",
    "c"
   ]
  },
  {
   "cell_type": "code",
   "execution_count": 19,
   "id": "4665875c-8c56-4d87-b44e-4e21ef32f7f3",
   "metadata": {},
   "outputs": [
    {
     "data": {
      "text/plain": [
       "array([[ 6,  7,  8],\n",
       "       [10, 11, 12]])"
      ]
     },
     "execution_count": 19,
     "metadata": {},
     "output_type": "execute_result"
    }
   ],
   "source": [
    "# c[1:3,1:3]\n",
    "c[1:3,1:4]"
   ]
  },
  {
   "cell_type": "code",
   "execution_count": 20,
   "id": "6732fc4b-d1f7-47be-a579-8e3324ad307a",
   "metadata": {},
   "outputs": [
    {
     "name": "stdout",
     "output_type": "stream",
     "text": [
      "[5 6 7 8] (4,) 1\n",
      "[[5 6 7 8]] (1, 4) 2\n",
      "[[5 6 7 8]] (1, 4) 2\n"
     ]
    }
   ],
   "source": [
    "row_r1 = c[1,:]\n",
    "row_r2 = c[1:2,:]\n",
    "row_r3 = c[[1],:]\n",
    "\n",
    "print(row_r1, row_r1.shape, row_r1.ndim)\n",
    "print(row_r2, row_r2.shape, row_r2.ndim)\n",
    "print(row_r3, row_r3.shape, row_r3.ndim)\n"
   ]
  },
  {
   "cell_type": "code",
   "execution_count": 21,
   "id": "78df5961-3f40-4e1e-b4df-b1fd6b9952d9",
   "metadata": {},
   "outputs": [
    {
     "name": "stdout",
     "output_type": "stream",
     "text": [
      "[[0. 0.]\n",
      " [0. 0.]]\n"
     ]
    }
   ],
   "source": [
    "a = np.zeros((2,2))\n",
    "print(a)"
   ]
  },
  {
   "cell_type": "code",
   "execution_count": 22,
   "id": "009842bf-57b8-4eb5-a2a8-d1cfbd706c0c",
   "metadata": {},
   "outputs": [
    {
     "name": "stdout",
     "output_type": "stream",
     "text": [
      "[[1. 1.]\n",
      " [1. 1.]]\n"
     ]
    }
   ],
   "source": [
    "b= np.ones((2,2))\n",
    "print(b)"
   ]
  },
  {
   "cell_type": "code",
   "execution_count": 23,
   "id": "7f960733-2117-4a3d-b6d4-adfd85b0a22b",
   "metadata": {},
   "outputs": [
    {
     "name": "stdout",
     "output_type": "stream",
     "text": [
      "[[2 2]\n",
      " [2 2]]\n",
      "int32\n"
     ]
    }
   ],
   "source": [
    "c = np.full((2,2),2)\n",
    "print(c)\n",
    "print(c.dtype)"
   ]
  },
  {
   "cell_type": "code",
   "execution_count": 24,
   "id": "d7a2f893-ccf6-4e29-b964-136b97500f39",
   "metadata": {},
   "outputs": [
    {
     "name": "stdout",
     "output_type": "stream",
     "text": [
      "[[1. 0.]\n",
      " [0. 1.]]\n",
      "float64\n"
     ]
    }
   ],
   "source": [
    "d = np.eye(2)\n",
    "print(d)\n",
    "print(d.dtype)"
   ]
  },
  {
   "cell_type": "markdown",
   "id": "904f8f6f-0a2d-4c75-8a8a-ec481cab1b3c",
   "metadata": {},
   "source": [
    "### vstack() or row_stack()  and hstack or column_stack()"
   ]
  },
  {
   "cell_type": "code",
   "execution_count": 25,
   "id": "62251d2b-a3c2-4059-bfd3-b1c83995ae71",
   "metadata": {},
   "outputs": [
    {
     "data": {
      "text/plain": [
       "array([[1, 2, 3],\n",
       "       [4, 5, 6]])"
      ]
     },
     "execution_count": 25,
     "metadata": {},
     "output_type": "execute_result"
    }
   ],
   "source": [
    "x= np.array([1,2,3])\n",
    "y= np.array([4,5,6])\n",
    "np.vstack((x,y))"
   ]
  },
  {
   "cell_type": "code",
   "execution_count": 26,
   "id": "2d5fa005-5180-4224-bc28-c05b97c68ef8",
   "metadata": {},
   "outputs": [
    {
     "name": "stdout",
     "output_type": "stream",
     "text": [
      "[[1]\n",
      " [2]\n",
      " [3]]\n",
      "[[4]\n",
      " [5]\n",
      " [6]]\n"
     ]
    },
    {
     "data": {
      "text/plain": [
       "array([[1, 4],\n",
       "       [2, 5],\n",
       "       [3, 6]])"
      ]
     },
     "execution_count": 26,
     "metadata": {},
     "output_type": "execute_result"
    }
   ],
   "source": [
    "x= np.array([[1],[2],[3]])\n",
    "y= np.array([[4],[5],[6]])\n",
    "print(x)\n",
    "print(y)\n",
    "np.hstack((x,y))"
   ]
  },
  {
   "cell_type": "code",
   "execution_count": 2,
   "id": "2c87a8eb-31a4-4844-97f2-6993c9955097",
   "metadata": {},
   "outputs": [
    {
     "name": "stdout",
     "output_type": "stream",
     "text": [
      "[[ 6.  8.]\n",
      " [10. 12.]]\n",
      "[[ 6.  8.]\n",
      " [10. 12.]]\n"
     ]
    }
   ],
   "source": [
    "x= np.array([[1,2],[3,4]], dtype = np.float64)\n",
    "y= np.array([[5,6],[7,8]], dtype = np.float64)\n",
    "\n",
    "print(x + y)\n",
    "print(np.add(x,y))"
   ]
  },
  {
   "cell_type": "code",
   "execution_count": 3,
   "id": "0277ff75-9e16-468b-975f-a31bae01f2db",
   "metadata": {},
   "outputs": [
    {
     "name": "stdout",
     "output_type": "stream",
     "text": [
      "[[-4. -4.]\n",
      " [-4. -4.]]\n",
      "[[-4. -4.]\n",
      " [-4. -4.]]\n"
     ]
    }
   ],
   "source": [
    "print(x-y)\n",
    "print(np.subtract(x,y))"
   ]
  },
  {
   "cell_type": "code",
   "execution_count": 4,
   "id": "0be812fa-1278-4582-9a82-8ec8c51349b3",
   "metadata": {},
   "outputs": [
    {
     "name": "stdout",
     "output_type": "stream",
     "text": [
      "[[ 5. 12.]\n",
      " [21. 32.]]\n",
      "[[ 5. 12.]\n",
      " [21. 32.]]\n"
     ]
    }
   ],
   "source": [
    "print(x*y)\n",
    "print(np.multiply(x,y))"
   ]
  },
  {
   "cell_type": "code",
   "execution_count": 5,
   "id": "4c4d9cf9",
   "metadata": {},
   "outputs": [
    {
     "name": "stdout",
     "output_type": "stream",
     "text": [
      "[[0.2        0.33333333]\n",
      " [0.42857143 0.5       ]]\n",
      "[[0.2        0.33333333]\n",
      " [0.42857143 0.5       ]]\n"
     ]
    }
   ],
   "source": [
    "print(x/y)\n",
    "print(np.divide(x,y))"
   ]
  },
  {
   "cell_type": "code",
   "execution_count": 6,
   "id": "b061cf04",
   "metadata": {},
   "outputs": [
    {
     "name": "stdout",
     "output_type": "stream",
     "text": [
      "[[ 1.  4.]\n",
      " [ 9. 16.]]\n"
     ]
    }
   ],
   "source": [
    "print(np.square(x,y))"
   ]
  },
  {
   "cell_type": "code",
   "execution_count": 7,
   "id": "829f6217",
   "metadata": {},
   "outputs": [
    {
     "name": "stdout",
     "output_type": "stream",
     "text": [
      "219\n",
      "219\n"
     ]
    }
   ],
   "source": [
    "v = np.array([9,10])\n",
    "w = np.array([11,12])\n",
    "\n",
    "\n",
    "print(v.dot(w))\n",
    "print(np.dot(v,w))"
   ]
  },
  {
   "cell_type": "code",
   "execution_count": 9,
   "id": "99fa4d39",
   "metadata": {},
   "outputs": [
    {
     "name": "stdout",
     "output_type": "stream",
     "text": [
      "[29. 67.]\n",
      "[29. 67.]\n"
     ]
    }
   ],
   "source": [
    "print(np.dot(x,v))\n",
    "print(x@v)"
   ]
  },
  {
   "cell_type": "code",
   "execution_count": 14,
   "id": "c49a9973",
   "metadata": {},
   "outputs": [
    {
     "data": {
      "text/plain": [
       "array([ 2., 12.])"
      ]
     },
     "execution_count": 14,
     "metadata": {},
     "output_type": "execute_result"
    }
   ],
   "source": [
    "np.cross(x,y)"
   ]
  },
  {
   "cell_type": "code",
   "execution_count": 23,
   "id": "f060cab8",
   "metadata": {},
   "outputs": [
    {
     "data": {
      "text/plain": [
       "2"
      ]
     },
     "execution_count": 23,
     "metadata": {},
     "output_type": "execute_result"
    }
   ],
   "source": [
    "preds = np.array([0.2, 0.5, 0.92, 0.9, 0.1])\n",
    "predicted_class_index = np.argmax(preds)\n",
    "predicted_class_index"
   ]
  },
  {
   "cell_type": "code",
   "execution_count": null,
   "id": "25bcf02d",
   "metadata": {},
   "outputs": [],
   "source": [
    "to_predict_class = [\"apple\", \"banana\", \"ball\", \"mango\", \"orange\"]\n",
    "predicted_class_index = np.where(preds > .85)[0]\n",
    "\n",
    "for possible_class_index in predicted_class_index:\n",
    "    print(to_predict_class[possible_class_index])"
   ]
  },
  {
   "cell_type": "code",
   "execution_count": null,
   "id": "ca0e1c29",
   "metadata": {},
   "outputs": [
    {
     "name": "stdout",
     "output_type": "stream",
     "text": [
      "2\n"
     ]
    }
   ],
   "source": [
    "a = np.array([1, 8, 9, -3, 2, 4, 7, 9])\n",
    "# get the index of thr maximum element in a\n",
    "# {this array has two elements with the maximum value\n",
    "# only returns one index}\n",
    "\n",
    "print(np.argmax(a))"
   ]
  },
  {
   "cell_type": "code",
   "execution_count": 25,
   "id": "093c3d6a",
   "metadata": {},
   "outputs": [
    {
     "name": "stdout",
     "output_type": "stream",
     "text": [
      "3\n"
     ]
    }
   ],
   "source": [
    "print(np.argmin(a))"
   ]
  },
  {
   "cell_type": "code",
   "execution_count": 27,
   "id": "6e24c250",
   "metadata": {},
   "outputs": [
    {
     "name": "stdout",
     "output_type": "stream",
     "text": [
      "[ 1  8  9 -3  2  4  7  9]\n",
      "[-3  1  2  4  7  8  9  9]\n",
      "[3 0 4 5 6 1 2 7]\n"
     ]
    }
   ],
   "source": [
    "# set sorted list of index\n",
    "print (a)\n",
    "print(np.sort(a))\n",
    "print(np.argsort(a))"
   ]
  },
  {
   "cell_type": "code",
   "execution_count": 30,
   "id": "debd8aa7",
   "metadata": {},
   "outputs": [
    {
     "name": "stdout",
     "output_type": "stream",
     "text": [
      "6\n",
      "1\n",
      "21\n"
     ]
    }
   ],
   "source": [
    "x= np.array([[1,2],[3,4],[5,6]])\n",
    "\n",
    "print(np.max(x))\n",
    "print(np.min(x))\n",
    "print(np.sum(x))"
   ]
  },
  {
   "cell_type": "code",
   "execution_count": 36,
   "id": "b21e8843",
   "metadata": {},
   "outputs": [
    {
     "name": "stdout",
     "output_type": "stream",
     "text": [
      "[4 6 8]\n",
      "[8 6 6]\n"
     ]
    }
   ],
   "source": [
    "x = np.array([[1,2,8],[4,5,6],[4,6,5]])\n",
    "\n",
    "print(np.max(x, axis=0))\n",
    "print(np.max(x, axis=1))"
   ]
  },
  {
   "cell_type": "code",
   "execution_count": 37,
   "id": "8c6343b1",
   "metadata": {},
   "outputs": [
    {
     "data": {
      "text/plain": [
       "array([1, 2])"
      ]
     },
     "execution_count": 37,
     "metadata": {},
     "output_type": "execute_result"
    }
   ],
   "source": [
    "arr = np.array([1,2])\n",
    "arr.T"
   ]
  },
  {
   "cell_type": "code",
   "execution_count": 39,
   "id": "90ce1fb1",
   "metadata": {},
   "outputs": [
    {
     "name": "stdout",
     "output_type": "stream",
     "text": [
      "[[1 2]\n",
      " [3 4]\n",
      " [5 6]]\n",
      "Transpose\n",
      " [[1 3 5]\n",
      " [2 4 6]]\n"
     ]
    }
   ],
   "source": [
    "a =np.array([[1,2],[3,4],[5,6]])\n",
    "\n",
    "print(a)\n",
    "print(\"Transpose\\n\", a.T)"
   ]
  },
  {
   "cell_type": "markdown",
   "id": "f1cd47c7-58b7-4731-8b79-71696cff300a",
   "metadata": {},
   "source": [
    "# reshape class\n"
   ]
  },
  {
   "cell_type": "code",
   "execution_count": 5,
   "id": "e6a01a65",
   "metadata": {},
   "outputs": [
    {
     "data": {
      "text/plain": [
       "array([[1, 2, 3, 4],\n",
       "       [5, 6, 7, 8]])"
      ]
     },
     "execution_count": 5,
     "metadata": {},
     "output_type": "execute_result"
    }
   ],
   "source": [
    "data = np.array([1,2,3,4,5,6,7,8])\n",
    "data.reshape(2,4)"
   ]
  },
  {
   "cell_type": "code",
   "execution_count": 7,
   "id": "7d15e459-175f-4dc0-9898-69b7de572e9e",
   "metadata": {},
   "outputs": [
    {
     "data": {
      "text/plain": [
       "array([[1, 2, 3, 4, 5, 6, 7, 8]])"
      ]
     },
     "execution_count": 7,
     "metadata": {},
     "output_type": "execute_result"
    }
   ],
   "source": [
    "data.reshape(1,8)"
   ]
  },
  {
   "cell_type": "code",
   "execution_count": 11,
   "id": "ff51b3ba-553d-4b31-b414-0b6faef2314d",
   "metadata": {},
   "outputs": [
    {
     "name": "stdout",
     "output_type": "stream",
     "text": [
      "[[1]\n",
      " [2]\n",
      " [3]]\n"
     ]
    },
    {
     "data": {
      "text/plain": [
       "(3, 1)"
      ]
     },
     "execution_count": 11,
     "metadata": {},
     "output_type": "execute_result"
    }
   ],
   "source": [
    "w = np.array([[1],[2],[3]])\n",
    "print(w)\n",
    "w.shape"
   ]
  },
  {
   "cell_type": "code",
   "execution_count": 13,
   "id": "0a104d3b-7268-4bd0-b35e-a28c3c51425d",
   "metadata": {},
   "outputs": [
    {
     "name": "stdout",
     "output_type": "stream",
     "text": [
      "[1 2 3]\n"
     ]
    },
    {
     "data": {
      "text/plain": [
       "(3,)"
      ]
     },
     "execution_count": 13,
     "metadata": {},
     "output_type": "execute_result"
    }
   ],
   "source": [
    "y = w.reshape(-1)\n",
    "print(y)\n",
    "y.shape"
   ]
  },
  {
   "cell_type": "markdown",
   "id": "140fef0b-cc91-4b4f-a93f-91eff11dc815",
   "metadata": {},
   "source": [
    "#### squeeze()\n",
    "#### used to remove single dimensions"
   ]
  },
  {
   "cell_type": "code",
   "execution_count": 14,
   "id": "f5d2f2eb-5f60-46ee-95f2-e2baa8d01419",
   "metadata": {},
   "outputs": [
    {
     "name": "stdout",
     "output_type": "stream",
     "text": [
      "[1 2 3]\n"
     ]
    },
    {
     "data": {
      "text/plain": [
       "(3,)"
      ]
     },
     "execution_count": 14,
     "metadata": {},
     "output_type": "execute_result"
    }
   ],
   "source": [
    "w = np.array([[1],[2],[3]])\n",
    "z= w.squeeze()\n",
    "print(z)\n",
    "z.shape"
   ]
  },
  {
   "cell_type": "code",
   "execution_count": 17,
   "id": "fba2cb64-9406-4529-9bc7-3c0f4e27f7ec",
   "metadata": {},
   "outputs": [
    {
     "name": "stdout",
     "output_type": "stream",
     "text": [
      "(2, 1)\n",
      "(1, 2, 1)\n"
     ]
    }
   ],
   "source": [
    "arr = np.array([[1],[2]])\n",
    "print(arr.shape)\n",
    "arr2 = np.array([[[1],[2]]])\n",
    "print(arr2.shape)\n",
    "\n"
   ]
  },
  {
   "cell_type": "code",
   "execution_count": 19,
   "id": "9ef4b521-a724-452d-b336-74011651f01b",
   "metadata": {},
   "outputs": [
    {
     "name": "stdout",
     "output_type": "stream",
     "text": [
      "(2,)\n",
      "[1 2]\n"
     ]
    }
   ],
   "source": [
    "squeeze_arr2= np.squeeze(arr2)\n",
    "print(squeeze_arr2.shape)\n",
    "print(squeeze_arr2)"
   ]
  },
  {
   "cell_type": "code",
   "execution_count": 34,
   "id": "63c9d4b1-0fa1-4751-9a38-918ff610ec7f",
   "metadata": {},
   "outputs": [
    {
     "name": "stdout",
     "output_type": "stream",
     "text": [
      "1\n",
      "2\n",
      "(3, 1)\n",
      "[[1]\n",
      " [2]\n",
      " [3]]\n"
     ]
    }
   ],
   "source": [
    "y = np.array([1,2,3])\n",
    "print(y.ndim)\n",
    "\n",
    "# y = y.reshape((-1,1,1))\n",
    "y = y.reshape((-1,1))\n",
    "print(y.ndim)\n",
    "print(y.shape)\n",
    "print(y)"
   ]
  },
  {
   "cell_type": "code",
   "execution_count": 38,
   "id": "0321b350-9afc-4d6d-b55f-4bbfe61fdb08",
   "metadata": {},
   "outputs": [
    {
     "name": "stdout",
     "output_type": "stream",
     "text": [
      "[2 3 4]\n",
      "[[1]\n",
      " [2]\n",
      " [3]]\n",
      "[[3 4 5]\n",
      " [4 5 6]\n",
      " [5 6 7]]\n"
     ]
    }
   ],
   "source": [
    "a = np.array([1,2,3]) + 1\n",
    "print(a)\n",
    "\n",
    "b = np.array([[1],[2],[3]])\n",
    "print(b)\n",
    "\n",
    "c = a + b\n",
    "print(c)"
   ]
  },
  {
   "cell_type": "code",
   "execution_count": 46,
   "id": "1280700e-958c-47ae-949d-d00b75238a04",
   "metadata": {},
   "outputs": [
    {
     "name": "stdout",
     "output_type": "stream",
     "text": [
      "[[2]\n",
      " [3]\n",
      " [4]]\n",
      "(3, 1)\n",
      "[[1 4]\n",
      " [2 5]\n",
      " [3 6]]\n",
      "(3, 2)\n",
      "[[ 3  6]\n",
      " [ 5  8]\n",
      " [ 7 10]]\n"
     ]
    }
   ],
   "source": [
    "a = np.array([[2],[3],[4]])\n",
    "print(a)\n",
    "print(a.shape)\n",
    "\n",
    "b = np.array([[1,4],[2,5],[3,6]])\n",
    "print(b)\n",
    "print(b.shape)\n",
    "\n",
    "c = a + b\n",
    "print(c)"
   ]
  },
  {
   "cell_type": "code",
   "execution_count": 43,
   "id": "f23796d0-15ef-4a90-bcc6-dee88a5a5e8b",
   "metadata": {},
   "outputs": [
    {
     "name": "stdout",
     "output_type": "stream",
     "text": [
      "[[1 2 3 4 5]\n",
      " [2 3 4 5 6]\n",
      " [3 4 5 6 7]\n",
      " [4 5 6 7 8]]\n",
      "[[1 4]\n",
      " [2 5]]\n"
     ]
    },
    {
     "ename": "ValueError",
     "evalue": "operands could not be broadcast together with shapes (4,5) (2,2) ",
     "output_type": "error",
     "traceback": [
      "\u001b[1;31m---------------------------------------------------------------------------\u001b[0m",
      "\u001b[1;31mValueError\u001b[0m                                Traceback (most recent call last)",
      "Cell \u001b[1;32mIn[43], line 7\u001b[0m\n\u001b[0;32m      4\u001b[0m b \u001b[38;5;241m=\u001b[39m np\u001b[38;5;241m.\u001b[39marray([[\u001b[38;5;241m1\u001b[39m,\u001b[38;5;241m4\u001b[39m],[\u001b[38;5;241m2\u001b[39m,\u001b[38;5;241m5\u001b[39m]])\n\u001b[0;32m      5\u001b[0m \u001b[38;5;28mprint\u001b[39m(b)\n\u001b[1;32m----> 7\u001b[0m c \u001b[38;5;241m=\u001b[39m \u001b[43ma\u001b[49m\u001b[43m \u001b[49m\u001b[38;5;241;43m+\u001b[39;49m\u001b[43m \u001b[49m\u001b[43mb\u001b[49m\n",
      "\u001b[1;31mValueError\u001b[0m: operands could not be broadcast together with shapes (4,5) (2,2) "
     ]
    }
   ],
   "source": [
    "a = np.array([[1,2,3,4,5],[2,3,4,5,6],[3,4,5,6,7],[4,5,6,7,8]])\n",
    "print(a)\n",
    "\n",
    "b = np.array([[1,4],[2,5]])\n",
    "print(b)\n",
    "\n",
    "c = a + b"
   ]
  },
  {
   "cell_type": "code",
   "execution_count": 54,
   "id": "2156d108-9599-42c9-a1c2-edcb74874cf8",
   "metadata": {},
   "outputs": [
    {
     "name": "stdout",
     "output_type": "stream",
     "text": [
      "[[1 2 3 4 5 6]\n",
      " [2 3 4 5 6 7]\n",
      " [3 4 5 6 7 8]\n",
      " [4 5 6 7 8 9]]\n",
      "(4, 6)\n",
      "[[1 4]\n",
      " [2 5]\n",
      " [3 4]\n",
      " [4 5]]\n",
      "(4, 2)\n"
     ]
    },
    {
     "ename": "ValueError",
     "evalue": "operands could not be broadcast together with shapes (4,6) (4,2) ",
     "output_type": "error",
     "traceback": [
      "\u001b[1;31m---------------------------------------------------------------------------\u001b[0m",
      "\u001b[1;31mValueError\u001b[0m                                Traceback (most recent call last)",
      "Cell \u001b[1;32mIn[54], line 9\u001b[0m\n\u001b[0;32m      6\u001b[0m \u001b[38;5;28mprint\u001b[39m(b)\n\u001b[0;32m      7\u001b[0m \u001b[38;5;28mprint\u001b[39m(b\u001b[38;5;241m.\u001b[39mshape)\n\u001b[1;32m----> 9\u001b[0m c \u001b[38;5;241m=\u001b[39m  \u001b[43ma\u001b[49m\u001b[43m \u001b[49m\u001b[38;5;241;43m+\u001b[39;49m\u001b[43m \u001b[49m\u001b[43mb\u001b[49m\n",
      "\u001b[1;31mValueError\u001b[0m: operands could not be broadcast together with shapes (4,6) (4,2) "
     ]
    }
   ],
   "source": [
    "a = np.array([[1,2,3,4,5,6],[2,3,4,5,6,7],[3,4,5,6,7,8],[4,5,6,7,8,9]])\n",
    "print(a)\n",
    "print(a.shape)\n",
    "\n",
    "b = np.array([[1,4],[2,5],[3,4],[4,5]])\n",
    "print(b)\n",
    "print(b.shape)\n",
    "\n",
    "c =  a + b"
   ]
  },
  {
   "cell_type": "code",
   "execution_count": 53,
   "id": "48fe1748-7d8e-4526-8893-6500672d74dd",
   "metadata": {},
   "outputs": [
    {
     "name": "stdout",
     "output_type": "stream",
     "text": [
      "[[1 2 3 4 5 6]\n",
      " [2 3 4 5 6 7]\n",
      " [3 4 5 6 7 8]\n",
      " [4 5 6 7 8 9]]\n",
      "(4, 6)\n",
      "[[2]\n",
      " [3]\n",
      " [4]\n",
      " [5]]\n",
      "(4, 1)\n",
      "[[ 3  4  5  6  7  8]\n",
      " [ 5  6  7  8  9 10]\n",
      " [ 7  8  9 10 11 12]\n",
      " [ 9 10 11 12 13 14]]\n"
     ]
    }
   ],
   "source": [
    "a = np.array([[1,2,3,4,5,6],[2,3,4,5,6,7],[3,4,5,6,7,8],[4,5,6,7,8,9]])\n",
    "print(a)\n",
    "print(a.shape)\n",
    "\n",
    "b = np.array([[2],[3],[4],[5]])\n",
    "# b = np.array([[1,4],[2,5],[3,4],[4,5]])\n",
    "print(b)\n",
    "print(b.shape)\n",
    "\n",
    "c =  a + b\n",
    "print(c)"
   ]
  },
  {
   "cell_type": "code",
   "execution_count": 56,
   "id": "30cbd31e-b71f-434d-b088-4e41d7130c1c",
   "metadata": {},
   "outputs": [
    {
     "name": "stdout",
     "output_type": "stream",
     "text": [
      "determine of A = -2.9999999999999996\n"
     ]
    }
   ],
   "source": [
    "A = np.array([[1,4],[2,5]])\n",
    "\n",
    "# determine of a matrix\n",
    "det_a = np.linalg.det(A)\n",
    "print(\"determine of A =\", det_a)"
   ]
  },
  {
   "cell_type": "code",
   "execution_count": 59,
   "id": "0dd4d050-67dd-4c3b-b403-de3e57674192",
   "metadata": {},
   "outputs": [
    {
     "name": "stdout",
     "output_type": "stream",
     "text": [
      "determine of A = -4.0\n"
     ]
    }
   ],
   "source": [
    "B = np.array([[1,4,3],[2,5,4],[2,3,4]])\n",
    "\n",
    "# determine of B matrix\n",
    "det_b = np.linalg.det(B)\n",
    "print(\"determine of A =\", det_b)"
   ]
  },
  {
   "cell_type": "code",
   "execution_count": 62,
   "id": "83d696ba-a143-4aec-87a7-d28ad94dd331",
   "metadata": {},
   "outputs": [
    {
     "name": "stdout",
     "output_type": "stream",
     "text": [
      "Solutions :  [2. 1.]\n"
     ]
    }
   ],
   "source": [
    "A = np.array([[2, 1],[1, -1]])\n",
    "B = np.array([5,1])\n",
    "\n",
    "solutions = np.linalg.solve(A,B)\n",
    "print(\"Solutions : \",solutions)"
   ]
  },
  {
   "cell_type": "code",
   "execution_count": 64,
   "id": "c0b4bf1d-960a-4160-b96c-31f6732782cb",
   "metadata": {},
   "outputs": [
    {
     "name": "stdout",
     "output_type": "stream",
     "text": [
      "Solutions :  [2.6 3.2 1. ]\n"
     ]
    }
   ],
   "source": [
    "A = np.array([[3, 1, -2],[2, -1, 1],[1, 2, 3]])\n",
    "B = np.array([9, 3, 12])\n",
    "\n",
    "solutions = np.linalg.solve(A,B)\n",
    "print(\"Solutions : \",solutions)"
   ]
  },
  {
   "cell_type": "code",
   "execution_count": null,
   "id": "3fb4e308-8f5f-4cdb-a193-609be66e9263",
   "metadata": {},
   "outputs": [],
   "source": [
    "#Generate a random number from 0 to 1\n",
    "random_num = np.random.rand()\n",
    "print(random_num)\n",
    "\n",
    "#generate 5\n",
    "random_num_1d= np.random.rand(5)\n",
    "print(random_num_1d)\n",
    "\n",
    "#ge\n",
    "random_num2D = np.random.rand(3, 2)\n",
    "print(random_num2D)"
   ]
  },
  {
   "cell_type": "code",
   "execution_count": 70,
   "id": "964d7568-a25f-47c3-8fb3-596cf2d58660",
   "metadata": {},
   "outputs": [
    {
     "name": "stdout",
     "output_type": "stream",
     "text": [
      "5\n",
      "[1 2 9 5 5]\n",
      "[[7 6 4]\n",
      " [7 1 8]]\n"
     ]
    }
   ],
   "source": [
    "#\n",
    "random_num = np.random.randint(1,10)\n",
    "print(random_num)\n",
    "\n",
    "random_num_1d= np.random.randint(1,10, size = 5)\n",
    "print(random_num_1d)\n",
    "\n",
    "random_num2D = np.random.randint(1, 10, size = (2,3))\n",
    "print(random_num2D)"
   ]
  },
  {
   "cell_type": "code",
   "execution_count": 76,
   "id": "3ef547e4-0b1f-4f19-b097-4f2b37354dcb",
   "metadata": {},
   "outputs": [
    {
     "name": "stdout",
     "output_type": "stream",
     "text": [
      "2\n",
      "[3 1 2]\n",
      "[[4 4 3]\n",
      " [5 4 4]]\n"
     ]
    }
   ],
   "source": [
    "random_num = np.random.choice([1,2,3,4,5])\n",
    "print(random_num)\n",
    "\n",
    "random_num_1d= np.random.choice([1,2,3,4,5], size = 3, replace = True)\n",
    "print(random_num_1d)\n",
    "\n",
    "random_num2D = np.random.choice([1,2,3,4,5], size = (2,3), replace = True)\n",
    "print(random_num2D)"
   ]
  },
  {
   "cell_type": "markdown",
   "id": "9475c2dd-8456-47bd-8eaf-c23ee6f8e609",
   "metadata": {},
   "source": [
    "### seed value is always 42\n",
    "#### to repeat the same random number again and again"
   ]
  },
  {
   "cell_type": "code",
   "execution_count": 10,
   "id": "cac6eaab-a49e-421a-8732-e897626fb52b",
   "metadata": {},
   "outputs": [
    {
     "name": "stdout",
     "output_type": "stream",
     "text": [
      "4\n",
      "4\n"
     ]
    }
   ],
   "source": [
    "# import numpy as np\n",
    "\n",
    "np.random.seed(42)\n",
    "random_num = np.random.choice([1,2,3,4,5])\n",
    "print(random_num)\n",
    "\n",
    "np.random.seed(42)\n",
    "random_num_again = np.random.choice([1,2,3,4,5])\n",
    "print(random_num_again)"
   ]
  },
  {
   "cell_type": "code",
   "execution_count": null,
   "id": "f422f63e",
   "metadata": {},
   "outputs": [],
   "source": []
  }
 ],
 "metadata": {
  "kernelspec": {
   "display_name": "base",
   "language": "python",
   "name": "python3"
  },
  "language_info": {
   "codemirror_mode": {
    "name": "ipython",
    "version": 3
   },
   "file_extension": ".py",
   "mimetype": "text/x-python",
   "name": "python",
   "nbconvert_exporter": "python",
   "pygments_lexer": "ipython3",
   "version": "3.12.7"
  }
 },
 "nbformat": 4,
 "nbformat_minor": 5
}
