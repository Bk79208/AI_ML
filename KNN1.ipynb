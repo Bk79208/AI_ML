{
 "cells": [
  {
   "cell_type": "markdown",
   "id": "82017589",
   "metadata": {},
   "source": [
    "## K-nearest neighbords"
   ]
  },
  {
   "cell_type": "code",
   "execution_count": null,
   "id": "c7970849",
   "metadata": {},
   "outputs": [],
   "source": [
    "import numpy as np\n",
    "import pandas as pd\n",
    "import matplotlib.pyplot as plt\n",
    "import seaborn as sns\n",
    "from sklearn.model_selection import train_test_split, GridSearchCV\n",
    "from sklearn.preprocessing import StandardScaler, LabelEncoder\n",
    "from sklearn.linear_model import LogisticRegression\n",
    "from sklearn.metrics import accuracy_score, confusion_matrix, classification_report\n",
    "from sklearn.neighbors import KNeighborsClassifier"
   ]
  },
  {
   "cell_type": "code",
   "execution_count": null,
   "id": "56248153",
   "metadata": {},
   "outputs": [],
   "source": [
    "breast_cancer_data = pd.read_csv(r'datasets\\breast-cancer.csv')\n",
    "breast_cancer_data.head()"
   ]
  },
  {
   "cell_type": "code",
   "execution_count": null,
   "id": "885a54c9",
   "metadata": {},
   "outputs": [],
   "source": [
    "breast_cancer_data.isnull().sum()"
   ]
  },
  {
   "cell_type": "code",
   "execution_count": null,
   "id": "9eebbf46",
   "metadata": {},
   "outputs": [],
   "source": []
  },
  {
   "cell_type": "code",
   "execution_count": null,
   "id": "a675898b",
   "metadata": {},
   "outputs": [],
   "source": [
    "plt.figure(figsize=(6,4))\n",
    "sns.countplot(x= breast_cancer_data['diagnosis'], palette='coolwarm')\n",
    "plt.title('Distribution of class in breast_cancer_data')\n",
    "plt.xlabel('Diagnosis (0/B = Benign, 1/M = Malignant)')\n",
    "plt.ylabel('count')\n",
    "plt.show()"
   ]
  },
  {
   "cell_type": "code",
   "execution_count": null,
   "id": "8b0fe597",
   "metadata": {},
   "outputs": [],
   "source": [
    "breast_cancer_data.drop(columns='id', inplace=True)"
   ]
  },
  {
   "cell_type": "code",
   "execution_count": null,
   "id": "79d1b7bd",
   "metadata": {},
   "outputs": [],
   "source": [
    "# Encoding the target variable using LabelEncoder\n",
    "label_encoder = LabelEncoder()\n",
    "breast_cancer_data['diagnosis'] = label_encoder.fit_transform(breast_cancer_data['diagnosis'])\n",
    "\n",
    "# Splitting featuer \n",
    "\n",
    "X_bc = breast_cancer_data.drop(columns=['diagnosis'])\n",
    "y_bc = breast_cancer_data['diagnosis']"
   ]
  },
  {
   "cell_type": "code",
   "execution_count": null,
   "id": "26809b83",
   "metadata": {},
   "outputs": [],
   "source": [
    "breast_cancer_data.head()"
   ]
  },
  {
   "cell_type": "code",
   "execution_count": null,
   "id": "d25f3f7b",
   "metadata": {},
   "outputs": [],
   "source": [
    "X_train_bc, X_test_bc, y_train_bc, y_test_bc = train_test_split(X_bc, y_bc, test_size=0.2, random_state=42)\n",
    "\n",
    "#Standardizing the data\n",
    "\n",
    "scaler = StandardScaler()\n",
    "X_train_bc = scaler.fit_transform(X_train_bc)\n",
    "X_test_bc = scaler.transform(X_test_bc)\n",
    "\n",
    "# tranning KNN model\n",
    "knn_bc_model = KNeighborsClassifier(n_neighbors=5, metric='euclidean')\n",
    "knn_bc_model.fit(X_train_bc, y_train_bc)\n",
    "\n",
    "# Prediction\n",
    "\n",
    "y_pred_bc = knn_bc_model.predict(X_test_bc)\n",
    "\n",
    "# evaluate the model\n",
    "print(\"Brest Cancer model Accuracy:\", accuracy_score(y_test_bc, y_pred_bc))~\n",
    "print(\"confusion_matrix:\\n\", confusion_matrix(y_test_bc, y_pred_bc))\n",
    "print(\"classification_report:\\n\", classification_report(y_test_bc, y_pred_bc))"
   ]
  },
  {
   "cell_type": "code",
   "execution_count": null,
   "id": "0b1a78e2",
   "metadata": {},
   "outputs": [],
   "source": [
    "# sample feature input for inference\n",
    "\n",
    "sample_feature = np.array([X_test_bc[0]])\n",
    "\n",
    "# Making a prediction\n",
    "predicted_class = knn_bc_model.predict(sample_feature)\n",
    "predicted_label = label_encoder.inverse_transform(predicted_class)\n",
    "print(\"Predicted Dignosis: \", predicted_label[0])"
   ]
  },
  {
   "cell_type": "code",
   "execution_count": null,
   "id": "86e8618d",
   "metadata": {},
   "outputs": [],
   "source": [
    "print(\"Predicted Dignosis: \", predicted_class[0])"
   ]
  },
  {
   "cell_type": "code",
   "execution_count": null,
   "id": "6c6be2ed",
   "metadata": {},
   "outputs": [],
   "source": []
  }
 ],
 "metadata": {
  "kernelspec": {
   "display_name": "venv",
   "language": "python",
   "name": "python3"
  },
  "language_info": {
   "codemirror_mode": {
    "name": "ipython",
    "version": 3
   },
   "file_extension": ".py",
   "mimetype": "text/x-python",
   "name": "python",
   "nbconvert_exporter": "python",
   "pygments_lexer": "ipython3",
   "version": "3.12.5"
  }
 },
 "nbformat": 4,
 "nbformat_minor": 5
}
